{
  "nbformat": 4,
  "nbformat_minor": 0,
  "metadata": {
    "colab": {
      "name": "Sudachi",
      "provenance": [],
      "toc_visible": true,
      "authorship_tag": "ABX9TyMCbsqHq2hK/mwbptODl9LZ",
      "include_colab_link": true
    },
    "kernelspec": {
      "name": "python3",
      "display_name": "Python 3"
    }
  },
  "cells": [
    {
      "cell_type": "markdown",
      "metadata": {
        "id": "view-in-github",
        "colab_type": "text"
      },
      "source": [
        "<a href=\"https://colab.research.google.com/github/chimamedia/sudachi_test/blob/master/Sudachi.ipynb\" target=\"_parent\"><img src=\"https://colab.research.google.com/assets/colab-badge.svg\" alt=\"Open In Colab\"/></a>"
      ]
    },
    {
      "cell_type": "markdown",
      "metadata": {
        "id": "Yn7dU-PVd6-4",
        "colab_type": "text"
      },
      "source": [
        "**cd や lsなどはそのまま実行することができる。 gitやpythonなどのコマンドは頭に「!」をつければ実行できる。**\n",
        "\n",
        "基本的な使い方は，jupyter notebookと同じような形。\n"
      ]
    },
    {
      "cell_type": "markdown",
      "metadata": {
        "id": "oh150bf0do5y",
        "colab_type": "text"
      },
      "source": [
        "**Google Driveをマウントする。**"
      ]
    },
    {
      "cell_type": "code",
      "metadata": {
        "id": "7sczvemTdq6N",
        "colab_type": "code",
        "colab": {
          "base_uri": "https://localhost:8080/",
          "height": 122
        },
        "outputId": "476dea5b-28e7-4281-e4ae-5b39959bfc09"
      },
      "source": [
        "from google.colab import drive\n",
        "drive.mount('/content/drive')"
      ],
      "execution_count": 1,
      "outputs": [
        {
          "output_type": "stream",
          "text": [
            "Go to this URL in a browser: https://accounts.google.com/o/oauth2/auth?client_id=947318989803-6bn6qk8qdgf4n4g3pfee6491hc0brc4i.apps.googleusercontent.com&redirect_uri=urn%3aietf%3awg%3aoauth%3a2.0%3aoob&response_type=code&scope=email%20https%3a%2f%2fwww.googleapis.com%2fauth%2fdocs.test%20https%3a%2f%2fwww.googleapis.com%2fauth%2fdrive%20https%3a%2f%2fwww.googleapis.com%2fauth%2fdrive.photos.readonly%20https%3a%2f%2fwww.googleapis.com%2fauth%2fpeopleapi.readonly\n",
            "\n",
            "Enter your authorization code:\n",
            "··········\n",
            "Mounted at /content/drive\n"
          ],
          "name": "stdout"
        }
      ]
    },
    {
      "cell_type": "markdown",
      "metadata": {
        "id": "rKcokoa_d2Qc",
        "colab_type": "text"
      },
      "source": [
        "**フォルダに移動する**"
      ]
    },
    {
      "cell_type": "code",
      "metadata": {
        "id": "8Wp_i6-0duq1",
        "colab_type": "code",
        "colab": {
          "base_uri": "https://localhost:8080/",
          "height": 34
        },
        "outputId": "7e7b5346-c014-49b2-99f2-eac48e44c162"
      },
      "source": [
        "cd /content/drive/My\\ Drive/Colab\\ Notebooks"
      ],
      "execution_count": 2,
      "outputs": [
        {
          "output_type": "stream",
          "text": [
            "/content/drive/My Drive/Colab Notebooks\n"
          ],
          "name": "stdout"
        }
      ]
    },
    {
      "cell_type": "markdown",
      "metadata": {
        "id": "RmUwcxO7fzfc",
        "colab_type": "text"
      },
      "source": [
        "**SudachiPyのインストールと設定**"
      ]
    },
    {
      "cell_type": "code",
      "metadata": {
        "id": "ZiYxd2NMfV5Y",
        "colab_type": "code",
        "colab": {
          "base_uri": "https://localhost:8080/",
          "height": 207
        },
        "outputId": "5ce88215-4c29-493e-a6f1-fbafbc8cc3e1"
      },
      "source": [
        "!pip install sudachipy"
      ],
      "execution_count": 4,
      "outputs": [
        {
          "output_type": "stream",
          "text": [
            "Collecting sudachipy\n",
            "\u001b[?25l  Downloading https://files.pythonhosted.org/packages/96/b8/1ac7e332c3e89840638fafb82de1101dbd55ed6514005a7a0b0a36af7b97/SudachiPy-0.4.3-py3-none-any.whl (73kB)\n",
            "\u001b[K     |████████████████████████████████| 81kB 2.2MB/s \n",
            "\u001b[?25hRequirement already satisfied: sortedcontainers~=2.1.0 in /usr/local/lib/python3.6/dist-packages (from sudachipy) (2.1.0)\n",
            "Collecting dartsclone~=0.9.0\n",
            "\u001b[?25l  Downloading https://files.pythonhosted.org/packages/6d/34/987a076369ed086ee953e2f0b9ab5ff3e1a682ba4f781678ac5648144896/dartsclone-0.9.0-cp36-cp36m-manylinux1_x86_64.whl (474kB)\n",
            "\u001b[K     |████████████████████████████████| 481kB 4.0MB/s \n",
            "\u001b[?25hRequirement already satisfied: Cython in /usr/local/lib/python3.6/dist-packages (from dartsclone~=0.9.0->sudachipy) (0.29.16)\n",
            "Installing collected packages: dartsclone, sudachipy\n",
            "Successfully installed dartsclone-0.9.0 sudachipy-0.4.3\n"
          ],
          "name": "stdout"
        }
      ]
    },
    {
      "cell_type": "code",
      "metadata": {
        "id": "12GQTe7Xfc-Y",
        "colab_type": "code",
        "colab": {
          "base_uri": "https://localhost:8080/",
          "height": 275
        },
        "outputId": "0d425cb1-3552-4dc4-f88f-45d7f493c768"
      },
      "source": [
        "!pip install https://object-storage.tyo2.conoha.io/v1/nc_2520839e1f9641b08211a5c85243124a/sudachi/SudachiDict_core-20200330.tar.gz"
      ],
      "execution_count": 6,
      "outputs": [
        {
          "output_type": "stream",
          "text": [
            "Collecting https://object-storage.tyo2.conoha.io/v1/nc_2520839e1f9641b08211a5c85243124a/sudachi/SudachiDict_core-20200330.tar.gz\n",
            "\u001b[?25l  Downloading https://object-storage.tyo2.conoha.io/v1/nc_2520839e1f9641b08211a5c85243124a/sudachi/SudachiDict_core-20200330.tar.gz (70.9MB)\n",
            "\u001b[K     |████████████████████████████████| 70.9MB 51kB/s \n",
            "\u001b[?25hRequirement already satisfied: SudachiPy>=0.2.1 in /usr/local/lib/python3.6/dist-packages (from SudachiDict-core==20200330) (0.4.3)\n",
            "Requirement already satisfied: sortedcontainers~=2.1.0 in /usr/local/lib/python3.6/dist-packages (from SudachiPy>=0.2.1->SudachiDict-core==20200330) (2.1.0)\n",
            "Requirement already satisfied: dartsclone~=0.9.0 in /usr/local/lib/python3.6/dist-packages (from SudachiPy>=0.2.1->SudachiDict-core==20200330) (0.9.0)\n",
            "Requirement already satisfied: Cython in /usr/local/lib/python3.6/dist-packages (from dartsclone~=0.9.0->SudachiPy>=0.2.1->SudachiDict-core==20200330) (0.29.16)\n",
            "Building wheels for collected packages: SudachiDict-core\n",
            "  Building wheel for SudachiDict-core (setup.py) ... \u001b[?25l\u001b[?25hdone\n",
            "  Created wheel for SudachiDict-core: filename=SudachiDict_core-20200330-cp36-none-any.whl size=71074569 sha256=2ffbcf533beb75fc3cb9da3ece1ec85db37f3a550fd62eb7c7241413cc2b68aa\n",
            "  Stored in directory: /root/.cache/pip/wheels/5c/eb/28/1de7c958057450352fdf80b13dfc9369edd4e2ed9c0485e082\n",
            "Successfully built SudachiDict-core\n",
            "Installing collected packages: SudachiDict-core\n",
            "Successfully installed SudachiDict-core-20200330\n"
          ],
          "name": "stdout"
        }
      ]
    },
    {
      "cell_type": "code",
      "metadata": {
        "id": "HleatcU9f4oE",
        "colab_type": "code",
        "colab": {
          "base_uri": "https://localhost:8080/",
          "height": 394
        },
        "outputId": "dbf8e39b-7faa-43c1-b660-1921c64f3707"
      },
      "source": [
        "!sudachipy"
      ],
      "execution_count": 7,
      "outputs": [
        {
          "output_type": "stream",
          "text": [
            "私の名前は大阪太郎です。\n",
            "私\t代名詞,*,*,*,*,*\t私\n",
            "の\t助詞,格助詞,*,*,*,*\tの\n",
            "名前\t名詞,普通名詞,一般,*,*,*\t名前\n",
            "は\t助詞,係助詞,*,*,*,*\tは\n",
            "大阪\t名詞,固有名詞,地名,一般,*,*\t大阪\n",
            "太郎\t名詞,普通名詞,一般,*,*,*\t太郎\n",
            "です\t助動詞,*,*,*,助動詞-デス,終止形-一般\tです\n",
            "。\t補助記号,句点,*,*,*,*\t。\n",
            "EOS\n",
            "Traceback (most recent call last):\n",
            "  File \"/usr/local/bin/sudachipy\", line 8, in <module>\n",
            "    sys.exit(main())\n",
            "  File \"/usr/local/lib/python3.6/dist-packages/sudachipy/command_line.py\", line 235, in main\n",
            "    args.handler(args, args.print_usage)\n",
            "  File \"/usr/local/lib/python3.6/dist-packages/sudachipy/command_line.py\", line 173, in _command_tokenize\n",
            "    run(tokenizer_obj, mode, input_, print_all, stdout_logger, enable_dump)\n",
            "  File \"/usr/local/lib/python3.6/dist-packages/sudachipy/command_line.py\", line 61, in run\n",
            "    for line in input_:\n",
            "  File \"/usr/lib/python3.6/fileinput.py\", line 250, in __next__\n",
            "KeyboardInterrupt\n"
          ],
          "name": "stdout"
        }
      ]
    },
    {
      "cell_type": "markdown",
      "metadata": {
        "id": "l42cYKgHeJUD",
        "colab_type": "text"
      },
      "source": [
        "**2回目以降、ここは実行しなくてもよい**\n",
        "\n",
        "狼と香辛料の「ホロ」への変換のプログラムをダウンロードする"
      ]
    },
    {
      "cell_type": "code",
      "metadata": {
        "id": "NFGMzsvtffmP",
        "colab_type": "code",
        "colab": {
          "base_uri": "https://localhost:8080/",
          "height": 119
        },
        "outputId": "97c80672-8123-4f61-e16b-2f2c22161f2b"
      },
      "source": [
        "!git clone https://github.com/chimamedia/sudachi_test.git"
      ],
      "execution_count": 8,
      "outputs": [
        {
          "output_type": "stream",
          "text": [
            "Cloning into 'sudachi_test'...\n",
            "remote: Enumerating objects: 47, done.\u001b[K\n",
            "remote: Counting objects: 100% (47/47), done.\u001b[K\n",
            "remote: Compressing objects: 100% (34/34), done.\u001b[K\n",
            "remote: Total 47 (delta 9), reused 40 (delta 6), pack-reused 0\u001b[K\n",
            "Unpacking objects: 100% (47/47), done.\n"
          ],
          "name": "stdout"
        }
      ]
    },
    {
      "cell_type": "markdown",
      "metadata": {
        "id": "EZ6-RVgfj_tG",
        "colab_type": "text"
      },
      "source": [
        "**ここから下は、2回目以降も実行する必要あり**\n",
        "\n",
        "**ダウンロードしたフォルダへ移動 **"
      ]
    },
    {
      "cell_type": "code",
      "metadata": {
        "id": "gfHEVaOLkAkF",
        "colab_type": "code",
        "colab": {
          "base_uri": "https://localhost:8080/",
          "height": 34
        },
        "outputId": "add17570-9b37-42d8-ca0e-708d3c0c157c"
      },
      "source": [
        "cd sudachi_test/"
      ],
      "execution_count": 12,
      "outputs": [
        {
          "output_type": "stream",
          "text": [
            "/content/drive/My Drive/Colab Notebooks/sudachi_test\n"
          ],
          "name": "stdout"
        }
      ]
    },
    {
      "cell_type": "markdown",
      "metadata": {
        "id": "QcCiIgW9kR8A",
        "colab_type": "text"
      },
      "source": [
        "**プログラムを実行する**\n",
        "*   Google Driveにマウントしていると、各自のGoogle Driveに上でインストールしたプログラムのフォルダが作られているはず\n",
        "  *   Colab Notebooks/sudachi_test\n",
        "*    そのフォルダに移動し、テキストエディタでinput.txtを編集する\n",
        "  * Google Driveのデスクトップアプリを入れていない場合はweb上の「sudachi_test」フォルダに、新しく作ったinput.txtファイルをドラッグ＆ドロップで入れて、更新するとよい"
      ]
    },
    {
      "cell_type": "code",
      "metadata": {
        "id": "H9g67eZ0kN5Y",
        "colab_type": "code",
        "colab": {
          "base_uri": "https://localhost:8080/",
          "height": 1000
        },
        "outputId": "abcab678-7103-4c4c-e63e-eff114410c4e"
      },
      "source": [
        "!python expression_trans.py"
      ],
      "execution_count": 13,
      "outputs": [
        {
          "output_type": "stream",
          "text": [
            "{'characterDefinitionFile': 'char.def', 'inputTextPlugin': [{'class': 'sudachipy.plugin.input_text.DefaultInputTextPlugin'}, {'class': 'sudachipy.plugin.input_text.ProlongedSoundMarkInputTextPlugin', 'prolongedSoundMarks': ['ー', '-', '⁓', '〜', '〰'], 'replacementSymbol': 'ー'}], 'oovProviderPlugin': [{'class': 'sudachipy.plugin.oov.MeCabOovProviderPlugin', 'charDef': 'char.def', 'unkDef': 'unk.def'}, {'class': 'sudachipy.plugin.oov.SimpleOovProviderPlugin', 'oovPOS': ['補助記号', '一般', '*', '*', '*', '*'], 'leftId': 5968, 'rightId': 5968, 'cost': 3857}], 'pathRewritePlugin': [{'class': 'sudachipy.plugin.path_rewrite.JoinNumericPlugin', 'enableNormalize': True}, {'class': 'sudachipy.plugin.path_rewrite.JoinKatakanaOovPlugin', 'oovPOS': ['名詞', '普通名詞', '一般', '*', '*', '*'], 'minLength': 3}]}\n",
            "/usr/local/lib/python3.6/dist-packages/sudachipy/resources\n",
            "\n",
            "Original text: \n",
            "-----\n",
            "私が惚れたら困ります。\n",
            "\n",
            "-----\n",
            "\n",
            "Processing log: \n",
            "-----\n",
            "Translate honorific words: \n",
            "-----\n",
            "Nothing to translate in text.\n",
            "-----\n",
            "\n",
            "Translate specific words: \n",
            "-----\n",
            "Nothing to translate in text.\n",
            "-----\n",
            "\n",
            "Morphological analisis after replacement: \n",
            "-----\n",
            "> 私\t代名詞,*,*,*,*,*\t私\t私\tワタクシ\n",
            "> が\t助詞,格助詞,*,*,*,*\tが\tが\tガ\n",
            "> 惚れ\t動詞,一般,*,*,下一段-ラ行,連用形-一般\t惚れる\t惚れる\tホレ\n",
            "> たら\t助動詞,*,*,*,助動詞-タ,仮定形-一般\tた\tた\tタラ\n",
            "> 困り\t動詞,一般,*,*,五段-ラ行,連用形-一般\t困る\t困る\tコマリ\n",
            "> ます\t助動詞,*,*,*,助動詞-マス,終止形-一般\tます\tます\tマス\n",
            "> 。\t補助記号,句点,*,*,*,*\t。\t。\t。\n",
            "\n",
            "-----\n",
            "0: 私\t代名詞,*,*,*,*,*\t私\t私\tワタクシ\n",
            "Found keyword: \"私\"\n",
            "Translated: わっち\n",
            "Translate noun token: 私 > わっち\n",
            "\n",
            "1: が\t助詞,格助詞,*,*,*,*\tが\tが\tガ\n",
            "Nothing to translate: が > が\n",
            "\n",
            "2: 惚れ\t動詞,一般,*,*,下一段-ラ行,連用形-一般\t惚れる\t惚れる\tホレ\n",
            "Translate (last)verb token: 惚れ > 惚れ\n",
            "\n",
            "3: たら\t助動詞,*,*,*,助動詞-タ,仮定形-一般\tた\tた\tタラ\n",
            "Nothing to translate: たら > たら\n",
            "\n",
            "4: 困り\t動詞,一般,*,*,五段-ラ行,連用形-一般\t困る\t困る\tコマリ\n",
            "Found keyword: \"困り\"\n",
            "Translated: 困りんす\n",
            "Translate (last)verb token: 困り > 困りんす\n",
            "\n",
            "6: 。\t補助記号,句点,*,*,*,*\t。\t。\t。\n",
            "Nothing to translate: 。 > 。\n",
            "\n",
            "-----\n",
            "\n",
            "Translated text: \n",
            "-----\n",
            "わっちが惚れたら困りんす。\n",
            "-----\n",
            "\n",
            "\n",
            "\n",
            "\n",
            "Original text: \n",
            "-----\n",
            "あなたのお名前は？\n",
            "\n",
            "-----\n",
            "\n",
            "Processing log: \n",
            "-----\n",
            "Translate honorific words: \n",
            "-----\n",
            "Nothing to translate in text.\n",
            "-----\n",
            "\n",
            "Translate specific words: \n",
            "-----\n",
            "Nothing to translate in text.\n",
            "-----\n",
            "\n",
            "Morphological analisis after replacement: \n",
            "-----\n",
            "> あなた\t代名詞,*,*,*,*,*\t貴方\tあなた\tアナタ\n",
            "> の\t助詞,格助詞,*,*,*,*\tの\tの\tノ\n",
            "> お\t接頭辞,*,*,*,*,*\t御\tお\tオ\n",
            "> 名前\t名詞,普通名詞,一般,*,*,*\t名前\t名前\tナマエ\n",
            "> は\t助詞,係助詞,*,*,*,*\tは\tは\tハ\n",
            "> ？\t補助記号,句点,*,*,*,*\t？\t？\tキゴウ\n",
            "\n",
            "-----\n",
            "0: あなた\t代名詞,*,*,*,*,*\t貴方\tあなた\tアナタ\n",
            "Found keyword: \"あなた\"\n",
            "Translated: ぬし\n",
            "Translate noun token: あなた > ぬし\n",
            "\n",
            "1: の\t助詞,格助詞,*,*,*,*\tの\tの\tノ\n",
            "Nothing to translate: の > の\n",
            "\n",
            "2: お\t接頭辞,*,*,*,*,*\t御\tお\tオ\n",
            "Nothing to translate: お > お\n",
            "\n",
            "3: 名前\t名詞,普通名詞,一般,*,*,*\t名前\t名前\tナマエ\n",
            "Nothing to translate: 名前 > 名前\n",
            "\n",
            "4: は\t助詞,係助詞,*,*,*,*\tは\tは\tハ\n",
            "Nothing to translate: は > は\n",
            "\n",
            "5: ？\t補助記号,句点,*,*,*,*\t？\t？\tキゴウ\n",
            "Nothing to translate: ？ > ？\n",
            "\n",
            "-----\n",
            "\n",
            "Translated text: \n",
            "-----\n",
            "ぬしのお名前は？\n",
            "-----\n",
            "\n",
            "\n",
            "\n",
            "\n",
            "Original text: \n",
            "-----\n",
            "123456\n",
            "\n",
            "-----\n",
            "\n",
            "Processing log: \n",
            "-----\n",
            "Translate honorific words: \n",
            "-----\n",
            "Nothing to translate in text.\n",
            "-----\n",
            "\n",
            "Translate specific words: \n",
            "-----\n",
            "Nothing to translate in text.\n",
            "-----\n",
            "\n",
            "Morphological analisis after replacement: \n",
            "-----\n",
            "> 123456\t名詞,数詞,*,*,*,*\t123456\t123456\tイチニサンヨンゴロク\n",
            "\n",
            "-----\n",
            "0: 123456\t名詞,数詞,*,*,*,*\t123456\t123456\tイチニサンヨンゴロク\n",
            "Nothing to translate: 123456 > 123456\n",
            "\n",
            "-----\n",
            "\n",
            "Translated text: \n",
            "-----\n",
            "123456\n",
            "-----\n",
            "\n",
            "\n",
            "\n",
            "\n",
            "Original text: \n",
            "-----\n",
            "ABCDE\n",
            "-----\n",
            "\n",
            "Processing log: \n",
            "-----\n",
            "Translate honorific words: \n",
            "-----\n",
            "Nothing to translate in text.\n",
            "-----\n",
            "\n",
            "Translate specific words: \n",
            "-----\n",
            "Nothing to translate in text.\n",
            "-----\n",
            "\n",
            "Morphological analisis after replacement: \n",
            "-----\n",
            "> ABCDE\t名詞,普通名詞,一般,*,*,*\tabcde\tabcde\t\t(OOV)\n",
            "\n",
            "-----\n",
            "0: ABCDE\t名詞,普通名詞,一般,*,*,*\tabcde\tabcde\t\t(OOV)\n",
            "Nothing to translate: ABCDE > ABCDE\n",
            "\n",
            "-----\n",
            "\n",
            "Translated text: \n",
            "-----\n",
            "ABCDE\n",
            "-----\n",
            "\n",
            "\n",
            "\n"
          ],
          "name": "stdout"
        }
      ]
    },
    {
      "cell_type": "code",
      "metadata": {
        "id": "9Fna3e5ekPPh",
        "colab_type": "code",
        "colab": {}
      },
      "source": [
        ""
      ],
      "execution_count": 0,
      "outputs": []
    }
  ]
}